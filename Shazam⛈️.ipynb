{
  "nbformat": 4,
  "nbformat_minor": 0,
  "metadata": {
    "colab": {
      "provenance": [],
      "toc_visible": true,
      "authorship_tag": "ABX9TyOZXLaq7Hxl0KCUL2hvX/yY",
      "include_colab_link": true
    },
    "kernelspec": {
      "name": "python3",
      "display_name": "Python 3"
    },
    "language_info": {
      "name": "python"
    }
  },
  "cells": [
    {
      "cell_type": "markdown",
      "metadata": {
        "id": "view-in-github",
        "colab_type": "text"
      },
      "source": [
        "<a href=\"https://colab.research.google.com/github/gevin456/Shazam-/blob/main/Shazam%E2%9B%88%EF%B8%8F.ipynb\" target=\"_parent\"><img src=\"https://colab.research.google.com/assets/colab-badge.svg\" alt=\"Open In Colab\"/></a>"
      ]
    },
    {
      "cell_type": "markdown",
      "source": [
        "# Please use this for torrent download\n"
      ],
      "metadata": {
        "id": "I-pMr4bZoogT"
      }
    },
    {
      "cell_type": "code",
      "source": [
        "# --- Step 1: Install aria2 --- 100% OK\n",
        "!apt-get -qq install -y aria2\n",
        "\n",
        "# --- Step 2: Mount Google Drive ---\n",
        "from google.colab import drive\n",
        "drive.mount('/content/drive')\n",
        "\n",
        "# --- Step 3: Set download directory in Google Drive ---\n",
        "import os\n",
        "\n",
        "# Change this path if you want another folder in Drive\n",
        "download_dir = \"/content/drive/My Drive/torrent_download\"\n",
        "os.makedirs(download_dir, exist_ok=True)\n",
        "\n",
        "print(\"✅ Download directory set to:\", download_dir)\n",
        "\n",
        "# --- Step 4: Ask user for magnet link ---\n",
        "magnet_link = input(\"🔗 Please paste your magnet link here: \").strip()\n",
        "\n",
        "if not magnet_link.startswith(\"magnet:?\"):\n",
        "    raise ValueError(\"❌ Invalid magnet link. Please make sure it starts with 'magnet:?'.\")\n",
        "else:\n",
        "    print(\"✅ Magnet link accepted!\")\n",
        "\n",
        "# --- Step 5: Start aria2c process ---\n",
        "import subprocess\n",
        "\n",
        "aria2_process = subprocess.Popen(\n",
        "    [\"aria2c\", \"--seed-time=0\", \"--console-log-level=warn\",\n",
        "     \"-d\", download_dir, magnet_link],\n",
        "    stdout=subprocess.PIPE,\n",
        "    stderr=subprocess.STDOUT,\n",
        "    text=True,\n",
        "    bufsize=1\n",
        ")\n",
        "\n",
        "print(\"\\n🚀 Downloading... (progress will appear below)\\n\")\n",
        "\n",
        "# --- Step 6: Monitor status until complete ---\n",
        "try:\n",
        "    for line in iter(aria2_process.stdout.readline, ''):\n",
        "        if line:\n",
        "            print(line.strip())\n",
        "        if aria2_process.poll() is not None:\n",
        "            break\n",
        "except KeyboardInterrupt:\n",
        "    aria2_process.terminate()\n",
        "    print(\"⛔ Download interrupted manually.\")\n",
        "\n",
        "aria2_process.wait()  # Ensure the process has fully exited\n",
        "\n",
        "print(\"\\n✅ Download finished! Files saved to:\", download_dir)\n"
      ],
      "metadata": {
        "id": "PIacNhxSom2W"
      },
      "execution_count": null,
      "outputs": []
    },
    {
      "cell_type": "markdown",
      "source": [
        "# OLD code #stable"
      ],
      "metadata": {
        "id": "75zQgjdnYP5J"
      }
    },
    {
      "cell_type": "code",
      "source": [
        "# --- Step 1: Install aria2 --- 100% okay\n",
        "!apt-get -qq install -y aria2\n",
        "\n",
        "# --- Step 2: Mount Google Drive ---\n",
        "from google.colab import drive\n",
        "drive.mount('/content/drive')\n",
        "\n",
        "# --- Step 3: Set download directory in Google Drive ---\n",
        "import os\n",
        "\n",
        "# Change this path if you want another folder in Drive\n",
        "download_dir = \"/content/drive/My Drive/Torrent_Download\"\n",
        "os.makedirs(download_dir, exist_ok=True)\n",
        "\n",
        "print(\"✅ Download directory set to:\", download_dir)\n",
        "\n",
        "# --- Step 4: Ask user for magnet link ---\n",
        "magnet_link = input(\"🔗 Please paste your magnet link here: \").strip()\n",
        "\n",
        "if not magnet_link.startswith(\"magnet:?\"):\n",
        "    raise ValueError(\"❌ Invalid magnet link. Please make sure it starts with 'magnet:?'.\")\n",
        "else:\n",
        "    print(\"✅ Magnet link accepted!\")\n",
        "\n",
        "# --- Step 5: Start aria2c in background ---\n",
        "import subprocess\n",
        "\n",
        "aria2_process = subprocess.Popen(\n",
        "    [\"aria2c\", \"--seed-time=0\", \"--console-log-level=warn\",\n",
        "     \"-d\", download_dir, magnet_link],\n",
        "    stdout=subprocess.PIPE,\n",
        "    stderr=subprocess.STDOUT,\n",
        "    text=True\n",
        ")\n",
        "\n",
        "print(\"\\n🚀 Downloading... (progress will appear below)\\n\")\n",
        "\n",
        "# --- Step 6: Monitor status until complete ---\n",
        "try:\n",
        "    for line in iter(aria2_process.stdout.readline, ''):\n",
        "        if line:\n",
        "            print(line.strip())\n",
        "        if aria2_process.poll() is not None:\n",
        "            break\n",
        "except KeyboardInterrupt:\n",
        "    print(\"⛔ Download interrupted manually.\")\n",
        "\n",
        "print(\"\\n✅ Download finished! Files saved to:\", download_dir)\n"
      ],
      "metadata": {
        "id": "ODQmyHQmlYt_"
      },
      "execution_count": null,
      "outputs": []
    },
    {
      "cell_type": "markdown",
      "source": [
        "# TESTING GROUNDS"
      ],
      "metadata": {
        "id": "zJPHfZeuzlEL"
      }
    }
  ]
}