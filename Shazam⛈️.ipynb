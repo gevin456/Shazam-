{
  "nbformat": 4,
  "nbformat_minor": 0,
  "metadata": {
    "colab": {
      "provenance": []
    },
    "kernelspec": {
      "name": "python3",
      "display_name": "Python 3"
    },
    "language_info": {
      "name": "python"
    }
  },
  "cells": [
    {
      "cell_type": "code",
      "execution_count": 8,
      "metadata": {
        "colab": {
          "base_uri": "https://localhost:8080/"
        },
        "id": "yCe0E5SoFbfH",
        "outputId": "bbd0b811-19c6-4964-a99f-f0eeb7dbbc92"
      },
      "outputs": [
        {
          "output_type": "stream",
          "name": "stdout",
          "text": [
            "Reading package lists... Done\n",
            "Building dependency tree... Done\n",
            "Reading state information... Done\n",
            "aria2 is already the newest version (1.36.0-1).\n",
            "0 upgraded, 0 newly installed, 0 to remove and 35 not upgraded.\n",
            "Drive already mounted at /content/drive; to attempt to forcibly remount, call drive.mount(\"/content/drive\", force_remount=True).\n",
            "Downloading via magnet link...\n",
            "\n",
            "08/28 19:25:52 [\u001b[1;31mERROR\u001b[0m] IPv6 BitTorrent: failed to bind TCP port 6931\n",
            "Exception: [SocketCore.cc:312] errorCode=1 Failed to bind a socket, cause: Name or service not known\n",
            " *** Download Progress Summary as of Thu Aug 28 19:26:53 2025 *** \n",
            "=\n",
            "[#4397ec 729MiB/2.0GiB(35%) CN:44 SD:17 DL:21MiB UL:512KiB(20MiB) ETA:1m]\n",
            "FILE: /content/downloads/The.Thursday.Murder.Club.2025.1080p.10bit.WEBRip.6CH.x265.HEVC-PSA/PSArips.com.txt (1more)\n",
            "-\n",
            "\n",
            "\u001b[0m\n",
            "Download Results:\n",
            "gid   |stat|avg speed  |path/URI\n",
            "======+====+===========+=======================================================\n",
            "1adbf1|\u001b[1;32mOK\u001b[0m  |       0B/s|[MEMORY][METADATA]The.Thursday.Murder.Club.2025.1080p.10bit.WEBRip.6CH.x265.HEVC-PSA\n",
            "4397ec|\u001b[1;32mOK\u001b[0m  |    17MiB/s|/content/downloads/The.Thursday.Murder.Club.2025.1080p.10bit.WEBRip.6CH.x265.HEVC-PSA/PSArips.com.txt (1more)\n",
            "\n",
            "Status Legend:\n",
            "(OK):download completed.\n",
            "✅ Download complete! Files saved in: /content/downloads\n"
          ]
        }
      ],
      "source": [
        "# Install aria2\n",
        "!apt-get install -y aria2\n",
        "\n",
        "import os\n",
        "from google.colab import drive\n",
        "\n",
        "drive.mount(\"/content/drive\")\n",
        "\n",
        "# Function to download torrent/magnet with aria2c\n",
        "def download_torrent(link_or_path, save_path=\"/content/downloads\"):\n",
        "    os.makedirs(save_path, exist_ok=True)\n",
        "\n",
        "    # If it's a magnet link\n",
        "    if link_or_path.startswith(\"magnet:\"):\n",
        "        print(\"Downloading via magnet link...\")\n",
        "        !aria2c -d {save_path} \"{link_or_path}\" --seed-time=0 --console-log-level=error\n",
        "    else:\n",
        "        print(\"Downloading via torrent file...\")\n",
        "        !aria2c -d {save_path} -T \"{link_or_path}\" --seed-time=0 --console-log-level=error\n",
        "\n",
        "    print(\"✅ Download complete! Files saved in:\", save_path)\n",
        "\n",
        "\n",
        "# Example usage:\n",
        "# For magnet link:\n",
        "download_torrent(\"magnet:?xt=urn:btih:b41bec3b1bd3a487f3e393a35b6ab5d944ec0cd4&dn=The.Thursday.Murder.Club.2025.1080p.10bit.WEBRip.6CH.x265.HEVC-PSA&tr=udp://tracker.opentrackr.org:1337/announce&tr=udp://open.demonii.com:1337/announce&tr=udp://tracker.torrent.eu.org:451/announce&tr=udp://open.stealth.si:80/announce&tr=udp://explodie.org:6969/announce&tr=udp://exodus.desync.com:6969/announce&tr=udp://wepzone.net:6969/announce&tr=udp://ttk2.nbaonlineservice.com:6969/announce&tr=udp://tracker2.dler.org:80/announce&tr=udp://tracker.tryhackx.org:6969/announce&tr=udp://tracker.therarbg.to:6969/announce&tr=udp://tracker.theoks.net:6969/announce&tr=udp://tracker.srv00.com:6969/announce&tr=udp://tracker.gmi.gd:6969/announce&tr=udp://tracker.gigantino.net:6969/announce&tr=udp://tracker.fnix.net:6969/announce\")\n",
        "\n",
        "# For torrent file (upload the .torrent file first to /content):\n",
        "# download_torrent(\"/content/your_file.torrent\")"
      ]
    }
  ]
}